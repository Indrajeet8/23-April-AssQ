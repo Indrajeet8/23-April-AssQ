{
 "cells": [
  {
   "cell_type": "markdown",
   "id": "18bb21fe-4b0b-419c-9bad-fd316ae5c782",
   "metadata": {},
   "source": [
    "### Dimensionality Reduction-1"
   ]
  },
  {
   "cell_type": "markdown",
   "id": "c20d914c-272a-4f83-9444-416420576f0d",
   "metadata": {},
   "source": [
    "Assignment Questions"
   ]
  },
  {
   "cell_type": "code",
   "execution_count": 1,
   "id": "a455c3f5-062f-4732-97c4-c6d4dad3cddc",
   "metadata": {},
   "outputs": [],
   "source": [
    "##Q1. What is the curse of dimensionality reduction and why is it important in machine learning?"
   ]
  },
  {
   "cell_type": "markdown",
   "id": "aa96d6e4-4dca-4a62-a2eb-bc2bc5de0ef6",
   "metadata": {},
   "source": [
    "The curse of dimensionality refers to the difficulties that arise when analyzing or modeling data with many dimensions. These problems can be summarized in the following points: Data Sparsity: Data points become increasingly spread out, making it hard to find patterns or relationships"
   ]
  },
  {
   "cell_type": "code",
   "execution_count": null,
   "id": "9c8954c0-5b75-42f1-96e4-a7968381a7db",
   "metadata": {},
   "outputs": [],
   "source": []
  },
  {
   "cell_type": "code",
   "execution_count": 2,
   "id": "ce2e55f4-4b5b-4a3f-a01d-e895be0ebedd",
   "metadata": {},
   "outputs": [],
   "source": [
    "#Q2. How does the curse of dimensionality impact the performance of machine learning algorithms?"
   ]
  },
  {
   "cell_type": "markdown",
   "id": "84e27304-e37c-47a5-aba9-fc0d0dce233b",
   "metadata": {},
   "source": [
    "As the number of dimensions or features increases, the amount of data needed to generalize the machine learning model accurately increases exponentially. The increase in dimensions makes the data sparse, and it increases the difficulty of generalizing the model."
   ]
  },
  {
   "cell_type": "code",
   "execution_count": null,
   "id": "48025c67-efe2-4c95-bb39-0e99dfe5625d",
   "metadata": {},
   "outputs": [],
   "source": []
  },
  {
   "cell_type": "code",
   "execution_count": 3,
   "id": "9f26aa9a-24b0-4cf2-a5ea-87ac16a5a4f2",
   "metadata": {},
   "outputs": [],
   "source": [
    "#Q3. What are some of the consequences of the curse of dimensionality in machine learning, and how do they impact model performance?"
   ]
  },
  {
   "cell_type": "markdown",
   "id": "9e6a9359-03d0-4b81-967e-8aa86896cda7",
   "metadata": {},
   "source": [
    "The curse of dimensionality challenges the performance of Bayesian models in high-dimensional data analysis due to increased computational complexity, data sparsity, sensitivity to outliers, and model selection difficulties."
   ]
  },
  {
   "cell_type": "code",
   "execution_count": null,
   "id": "e4bc2b6c-0300-4d44-b2bd-d8276935b66b",
   "metadata": {},
   "outputs": [],
   "source": []
  },
  {
   "cell_type": "code",
   "execution_count": 4,
   "id": "c2e9b981-e803-41d6-ae10-25f1d3c0fc39",
   "metadata": {},
   "outputs": [],
   "source": [
    "#Q4. Can you explain the concept of feature selection and how it can help with dimensionality reduction?"
   ]
  },
  {
   "cell_type": "markdown",
   "id": "f1cfa3bf-5254-4236-8b3c-7e864d26f66f",
   "metadata": {},
   "source": [
    "Feature Selection vs Dimensionality Reduction\n",
    "While both methods are used for reducing the number of features in a dataset, there is an important difference. Feature selection is simply selecting and excluding given features without changing them. Dimensionality reduction transforms features into a lower dimension."
   ]
  },
  {
   "cell_type": "code",
   "execution_count": null,
   "id": "ca8a913c-7c1b-4264-bb12-4208c670b987",
   "metadata": {},
   "outputs": [],
   "source": []
  },
  {
   "cell_type": "code",
   "execution_count": 5,
   "id": "765ef94a-e0d8-4c9a-a859-7a11f8d77fc4",
   "metadata": {},
   "outputs": [],
   "source": [
    "#Q5. What are some limitations and drawbacks of using dimensionality reduction techniques in machine learning?"
   ]
  },
  {
   "cell_type": "markdown",
   "id": "09f3bd18-fb29-4e09-858e-628d676eb3de",
   "metadata": {},
   "source": [
    "Disadvantages Of Dimensionality Reduction\n",
    "We lost some data during the dimensionality reduction process, which can impact how well future training algorithms work.\n",
    "It may need a lot of processing power.\n",
    "Interpreting transformed characteristics might be challenging."
   ]
  },
  {
   "cell_type": "code",
   "execution_count": null,
   "id": "4dc27cd0-a3a6-4d76-80d9-931f51b600bc",
   "metadata": {},
   "outputs": [],
   "source": []
  },
  {
   "cell_type": "code",
   "execution_count": 6,
   "id": "0baf5f8f-6b4c-41ac-88d2-7d961523f156",
   "metadata": {},
   "outputs": [],
   "source": [
    "#Q6. How does the curse of dimensionality relate to overfitting and underfitting in machine learning?"
   ]
  },
  {
   "cell_type": "code",
   "execution_count": null,
   "id": "38697e6b-48d9-4aed-8255-cb32f3d2cbce",
   "metadata": {},
   "outputs": [],
   "source": []
  }
 ],
 "metadata": {
  "kernelspec": {
   "display_name": "Python 3 (ipykernel)",
   "language": "python",
   "name": "python3"
  },
  "language_info": {
   "codemirror_mode": {
    "name": "ipython",
    "version": 3
   },
   "file_extension": ".py",
   "mimetype": "text/x-python",
   "name": "python",
   "nbconvert_exporter": "python",
   "pygments_lexer": "ipython3",
   "version": "3.10.8"
  }
 },
 "nbformat": 4,
 "nbformat_minor": 5
}
